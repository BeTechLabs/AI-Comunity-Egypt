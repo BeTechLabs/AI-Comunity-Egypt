{
 "cells": [
  {
   "cell_type": "code",
   "execution_count": 1,
   "metadata": {},
   "outputs": [],
   "source": [
    "import pandas as pd\n",
    "import math\n",
    "from sklearn.pipeline import Pipeline\n",
    "from sklearn.linear_model import LinearRegression\n",
    "from sklearn.preprocessing import PolynomialFeatures\n",
    "from sklearn.model_selection import train_test_split"
   ]
  },
  {
   "cell_type": "code",
   "execution_count": 2,
   "metadata": {},
   "outputs": [],
   "source": [
    "officesDF=pd.read_csv('dataset.csv',sep=' ')"
   ]
  },
  {
   "cell_type": "code",
   "execution_count": 3,
   "metadata": {},
   "outputs": [],
   "source": [
    "reg = LinearRegression()\n",
    "model = Pipeline([('poly', PolynomialFeatures(degree=len(officesDF.columns)-1)),\n",
    "              ('linear', LinearRegression(fit_intercept=False))])\n",
    "X_train, X_test, y_train, y_test = train_test_split(officesDF.drop(columns=['price']), officesDF.price, test_size=0.1, random_state=1)\n",
    "model = reg.fit(X_train, y_train)\n",
    "p=model.predict(X_test)"
   ]
  },
  {
   "cell_type": "code",
   "execution_count": 4,
   "metadata": {},
   "outputs": [],
   "source": [
    "def calculateMAE(predicted,trueValues):\n",
    "    s=0\n",
    "    for i,j in zip(predicted,trueValues):\n",
    "        s+=abs(i-j)\n",
    "    s=(s/len(trueValues))\n",
    "    print(\"MAE :\",s)\n",
    "\n",
    "def calculateRMSE(predicted,trueValues):\n",
    "    s=0\n",
    "    for i,j in zip(predicted,trueValues):\n",
    "        s+=pow((i-j),2)\n",
    "    s=(s/len(trueValues))\n",
    "    s=math.sqrt(s)\n",
    "    print(\"RMSE :\",s)"
   ]
  },
  {
   "cell_type": "code",
   "execution_count": 5,
   "metadata": {},
   "outputs": [
    {
     "name": "stdout",
     "output_type": "stream",
     "text": [
      "MAE : 40.14835951898168\n",
      "RMSE : 47.04234720323232\n"
     ]
    }
   ],
   "source": [
    "calculateMAE(p,y_test)\n",
    "calculateRMSE(p,y_test)"
   ]
  },
  {
   "cell_type": "code",
   "execution_count": null,
   "metadata": {},
   "outputs": [],
   "source": []
  }
 ],
 "metadata": {
  "kernelspec": {
   "display_name": "Python 3",
   "language": "python",
   "name": "python3"
  },
  "language_info": {
   "codemirror_mode": {
    "name": "ipython",
    "version": 3
   },
   "file_extension": ".py",
   "mimetype": "text/x-python",
   "name": "python",
   "nbconvert_exporter": "python",
   "pygments_lexer": "ipython3",
   "version": "3.6.4"
  }
 },
 "nbformat": 4,
 "nbformat_minor": 2
}
